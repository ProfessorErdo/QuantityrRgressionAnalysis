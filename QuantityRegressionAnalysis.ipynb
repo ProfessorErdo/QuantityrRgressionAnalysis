{
 "cells": [
  {
   "cell_type": "markdown",
   "id": "9b6375b6",
   "metadata": {},
   "source": [
    "# Regression Analysis of Product Selling Quantities\n",
    "\n",
    "This is an analysis report about the product sale quantity regression on the features of product real price, service score, nantional real disposable personal income, average number of stores selling this product, selling months and/or their log transformations.  \n",
    "\n",
    "The detailed 11 problems to be solved are as follows:  \n",
    "\n",
    "1. Regress, with an intercept term, log(quantity) on log(product_real_price), log(service_score), log(real_disp_pers_inc) and product_stores  \n",
    "\n",
    "2. Comment on the coefficient of log(product_real_price) – statistically and the interpretation in the context of retail business.  \n",
    "\n",
    "3. Comment on the coefficient of log(real_disp_pers_inc) (national real disposable personal income)– statistically and the interpretation in the context of retail business.  \n",
    "\n",
    "4. Could you or could you not accept this model? Why or why not?  \n",
    "\n",
    "5. Enhance the specification by regressing, with an intercept terms, log(quantity) on log(product_real_price), log(service_score), log(real_disp_pers_inc) and product_stores , PLUS SEASONAL MONTHLY BINARY VARIABLES OF YOUR CHOICE (Mxx).  \n",
    "\n",
    "6. Comment on the coefficient of log(product_real_price) – statistically and the interpretation in the context of demand theory (this product’s demand).  \n",
    "\n",
    "7. Comment on the coefficient of log(real_disp_pers_inc) – statistically and the interpretation in the context of demand theory (this product’s demand).  \n",
    "\n",
    "8. Interpret the coefficient of product_stores.  \n",
    "\n",
    "9. What happen when all Mxx are included as independent variables?  \n",
    "\n",
    "10. Interpret the coefficient of M08 (August).  \n",
    "\n",
    "11. Would you or would you not accept this model? Why or why not?\n",
    "\n",
    "_**The following codes were tested under an environment of python 3.9**_"
   ]
  },
  {
   "cell_type": "code",
   "execution_count": 158,
   "id": "4f3fb661",
   "metadata": {},
   "outputs": [],
   "source": [
    "import pandas as pd\n",
    "import numpy as np\n",
    "import statsmodels.formula.api as smf\n",
    "from statsmodels.stats.outliers_influence import variance_inflation_factor\n",
    "from statsmodels.tools.tools import add_constant\n",
    "from sklearn.linear_model import LinearRegression\n",
    "import matplotlib.pyplot as plt\n",
    "%matplotlib inline"
   ]
  },
  {
   "cell_type": "code",
   "execution_count": 159,
   "id": "3bdbb23a",
   "metadata": {},
   "outputs": [
    {
     "data": {
      "text/html": [
       "<div>\n",
       "<style scoped>\n",
       "    .dataframe tbody tr th:only-of-type {\n",
       "        vertical-align: middle;\n",
       "    }\n",
       "\n",
       "    .dataframe tbody tr th {\n",
       "        vertical-align: top;\n",
       "    }\n",
       "\n",
       "    .dataframe thead th {\n",
       "        text-align: right;\n",
       "    }\n",
       "</style>\n",
       "<table border=\"1\" class=\"dataframe\">\n",
       "  <thead>\n",
       "    <tr style=\"text-align: right;\">\n",
       "      <th></th>\n",
       "      <th>month</th>\n",
       "      <th>quantity</th>\n",
       "      <th>product_real_price</th>\n",
       "      <th>service_score</th>\n",
       "      <th>real_disp_pers_inc</th>\n",
       "      <th>product_stores</th>\n",
       "      <th>M01</th>\n",
       "      <th>M02</th>\n",
       "      <th>M03</th>\n",
       "      <th>M04</th>\n",
       "      <th>M05</th>\n",
       "      <th>M06</th>\n",
       "      <th>M07</th>\n",
       "      <th>M08</th>\n",
       "      <th>M09</th>\n",
       "      <th>M10</th>\n",
       "      <th>M11</th>\n",
       "      <th>M12</th>\n",
       "    </tr>\n",
       "  </thead>\n",
       "  <tbody>\n",
       "    <tr>\n",
       "      <th>0</th>\n",
       "      <td>5-Feb</td>\n",
       "      <td>40415305</td>\n",
       "      <td>0.564579</td>\n",
       "      <td>2207</td>\n",
       "      <td>9190.1</td>\n",
       "      <td>686.9054</td>\n",
       "      <td>0</td>\n",
       "      <td>1</td>\n",
       "      <td>0</td>\n",
       "      <td>0</td>\n",
       "      <td>0</td>\n",
       "      <td>0</td>\n",
       "      <td>0</td>\n",
       "      <td>0</td>\n",
       "      <td>0</td>\n",
       "      <td>0</td>\n",
       "      <td>0</td>\n",
       "      <td>0</td>\n",
       "    </tr>\n",
       "    <tr>\n",
       "      <th>1</th>\n",
       "      <td>5-Mar</td>\n",
       "      <td>52544001</td>\n",
       "      <td>0.560363</td>\n",
       "      <td>1864</td>\n",
       "      <td>9183.5</td>\n",
       "      <td>688.2814</td>\n",
       "      <td>0</td>\n",
       "      <td>0</td>\n",
       "      <td>1</td>\n",
       "      <td>0</td>\n",
       "      <td>0</td>\n",
       "      <td>0</td>\n",
       "      <td>0</td>\n",
       "      <td>0</td>\n",
       "      <td>0</td>\n",
       "      <td>0</td>\n",
       "      <td>0</td>\n",
       "      <td>0</td>\n",
       "    </tr>\n",
       "    <tr>\n",
       "      <th>2</th>\n",
       "      <td>5-Apr</td>\n",
       "      <td>56089039</td>\n",
       "      <td>0.578420</td>\n",
       "      <td>2061</td>\n",
       "      <td>9206.1</td>\n",
       "      <td>687.4706</td>\n",
       "      <td>0</td>\n",
       "      <td>0</td>\n",
       "      <td>0</td>\n",
       "      <td>1</td>\n",
       "      <td>0</td>\n",
       "      <td>0</td>\n",
       "      <td>0</td>\n",
       "      <td>0</td>\n",
       "      <td>0</td>\n",
       "      <td>0</td>\n",
       "      <td>0</td>\n",
       "      <td>0</td>\n",
       "    </tr>\n",
       "    <tr>\n",
       "      <th>3</th>\n",
       "      <td>5-May</td>\n",
       "      <td>50559014</td>\n",
       "      <td>0.596748</td>\n",
       "      <td>2025</td>\n",
       "      <td>9253.6</td>\n",
       "      <td>689.1815</td>\n",
       "      <td>0</td>\n",
       "      <td>0</td>\n",
       "      <td>0</td>\n",
       "      <td>0</td>\n",
       "      <td>1</td>\n",
       "      <td>0</td>\n",
       "      <td>0</td>\n",
       "      <td>0</td>\n",
       "      <td>0</td>\n",
       "      <td>0</td>\n",
       "      <td>0</td>\n",
       "      <td>0</td>\n",
       "    </tr>\n",
       "    <tr>\n",
       "      <th>4</th>\n",
       "      <td>5-Jun</td>\n",
       "      <td>53225857</td>\n",
       "      <td>0.595003</td>\n",
       "      <td>2068</td>\n",
       "      <td>9299.9</td>\n",
       "      <td>692.9923</td>\n",
       "      <td>0</td>\n",
       "      <td>0</td>\n",
       "      <td>0</td>\n",
       "      <td>0</td>\n",
       "      <td>0</td>\n",
       "      <td>1</td>\n",
       "      <td>0</td>\n",
       "      <td>0</td>\n",
       "      <td>0</td>\n",
       "      <td>0</td>\n",
       "      <td>0</td>\n",
       "      <td>0</td>\n",
       "    </tr>\n",
       "  </tbody>\n",
       "</table>\n",
       "</div>"
      ],
      "text/plain": [
       "   month  quantity  product_real_price  service_score  real_disp_pers_inc  \\\n",
       "0  5-Feb  40415305            0.564579           2207              9190.1   \n",
       "1  5-Mar  52544001            0.560363           1864              9183.5   \n",
       "2  5-Apr  56089039            0.578420           2061              9206.1   \n",
       "3  5-May  50559014            0.596748           2025              9253.6   \n",
       "4  5-Jun  53225857            0.595003           2068              9299.9   \n",
       "\n",
       "   product_stores  M01  M02  M03  M04  M05  M06  M07  M08  M09  M10  M11  M12  \n",
       "0        686.9054    0    1    0    0    0    0    0    0    0    0    0    0  \n",
       "1        688.2814    0    0    1    0    0    0    0    0    0    0    0    0  \n",
       "2        687.4706    0    0    0    1    0    0    0    0    0    0    0    0  \n",
       "3        689.1815    0    0    0    0    1    0    0    0    0    0    0    0  \n",
       "4        692.9923    0    0    0    0    0    1    0    0    0    0    0    0  "
      ]
     },
     "execution_count": 159,
     "metadata": {},
     "output_type": "execute_result"
    }
   ],
   "source": [
    "# load the data\n",
    "quantity = pd.read_csv('data.csv')\n",
    "quantity.head()"
   ]
  },
  {
   "cell_type": "code",
   "execution_count": 160,
   "id": "89b20df6",
   "metadata": {},
   "outputs": [
    {
     "data": {
      "text/plain": [
       "month                  object\n",
       "quantity                int64\n",
       "product_real_price    float64\n",
       "service_score           int64\n",
       "real_disp_pers_inc    float64\n",
       "product_stores        float64\n",
       "M01                     int64\n",
       "M02                     int64\n",
       "M03                     int64\n",
       "M04                     int64\n",
       "M05                     int64\n",
       "M06                     int64\n",
       "M07                     int64\n",
       "M08                     int64\n",
       "M09                     int64\n",
       "M10                     int64\n",
       "M11                     int64\n",
       "M12                     int64\n",
       "dtype: object"
      ]
     },
     "execution_count": 160,
     "metadata": {},
     "output_type": "execute_result"
    }
   ],
   "source": [
    "# check the variable types\n",
    "quantity.dtypes"
   ]
  },
  {
   "cell_type": "code",
   "execution_count": 178,
   "id": "d24bc803",
   "metadata": {},
   "outputs": [
    {
     "data": {
      "text/plain": [
       "month                 0.0\n",
       "quantity              0.0\n",
       "product_real_price    0.0\n",
       "service_score         0.0\n",
       "real_disp_pers_inc    0.0\n",
       "product_stores        0.0\n",
       "M01                   0.0\n",
       "M02                   0.0\n",
       "M03                   0.0\n",
       "M04                   0.0\n",
       "M05                   0.0\n",
       "M06                   0.0\n",
       "M07                   0.0\n",
       "M08                   0.0\n",
       "M09                   0.0\n",
       "M10                   0.0\n",
       "M11                   0.0\n",
       "M12                   0.0\n",
       "dtype: float64"
      ]
     },
     "execution_count": 178,
     "metadata": {},
     "output_type": "execute_result"
    }
   ],
   "source": [
    "# check missing values\n",
    "quantity.isnull().mean()"
   ]
  },
  {
   "cell_type": "markdown",
   "id": "a60512fc",
   "metadata": {},
   "source": [
    "## Q1: Regress, with an intercept term, log(quantity) on log(product_real_price), log(service_score), log(real_disp_pers_inc) and product_stores\n",
    "\n",
    "### A1: Build the regression model and show the stastitical summary"
   ]
  },
  {
   "cell_type": "code",
   "execution_count": 162,
   "id": "eebf438a",
   "metadata": {},
   "outputs": [
    {
     "name": "stdout",
     "output_type": "stream",
     "text": [
      "                            OLS Regression Results                            \n",
      "==============================================================================\n",
      "Dep. Variable:       np.log(quantity)   R-squared:                       0.640\n",
      "Model:                            OLS   Adj. R-squared:                  0.625\n",
      "Method:                 Least Squares   F-statistic:                     42.24\n",
      "Date:                Sun, 03 Apr 2022   Prob (F-statistic):           2.60e-20\n",
      "Time:                        11:54:53   Log-Likelihood:                 45.050\n",
      "No. Observations:                 100   AIC:                            -80.10\n",
      "Df Residuals:                      95   BIC:                            -67.07\n",
      "Df Model:                           4                                         \n",
      "Covariance Type:            nonrobust                                         \n",
      "==============================================================================================\n",
      "                                 coef    std err          t      P>|t|      [0.025      0.975]\n",
      "----------------------------------------------------------------------------------------------\n",
      "Intercept                     21.0635      7.621      2.764      0.007       5.934      36.193\n",
      "np.log(product_real_price)     1.4282      0.545      2.623      0.010       0.347       2.509\n",
      "np.log(service_score)          0.3092      0.052      5.993      0.000       0.207       0.412\n",
      "np.log(real_disp_pers_inc)    -1.0197      0.816     -1.249      0.215      -2.640       0.601\n",
      "product_stores                 0.0063      0.001      4.713      0.000       0.004       0.009\n",
      "==============================================================================\n",
      "Omnibus:                        5.345   Durbin-Watson:                   0.828\n",
      "Prob(Omnibus):                  0.069   Jarque-Bera (JB):                4.307\n",
      "Skew:                          -0.400   Prob(JB):                        0.116\n",
      "Kurtosis:                       2.373   Cond. No.                     3.24e+05\n",
      "==============================================================================\n",
      "\n",
      "Notes:\n",
      "[1] Standard Errors assume that the covariance matrix of the errors is correctly specified.\n",
      "[2] The condition number is large, 3.24e+05. This might indicate that there are\n",
      "strong multicollinearity or other numerical problems.\n"
     ]
    }
   ],
   "source": [
    "model1 = smf.ols('np.log(quantity) ~ np.log(product_real_price) + \\\n",
    "                np.log(service_score) + np.log(real_disp_pers_inc) + product_stores', \\\n",
    "                data=quantity).fit()\n",
    "\n",
    "print(model1.summary())"
   ]
  },
  {
   "cell_type": "markdown",
   "id": "d725f773",
   "metadata": {},
   "source": [
    "## Q2: Comment on the coefficient of log(product_real_price) – statistically and the interpretation in the context of retail business.\n",
    "\n",
    "### A2:\n",
    "\n",
    "#### From the statsitical perspective:\n",
    "The coefficient of log(product_real_price) is 1.4282 which represents a positive relationship between the product_real_price and the quantity. The p-value of the coefficient is 0.010 which means that it has only 1% probability to observe the same or more extreme value and therefore we are confident enough (>95%) to reject the null hypothesis which states that there is no relationship between the log(product_real_price) and the log(quantity).\n",
    "\n",
    "#### Interpretation in the context of retail business:\n",
    "Becasue both the response and predictor variables are log transfomred, the coefficient of 1.4282 means that for every 1% increase in the product_real_price, the quantity increases by about 1.43%."
   ]
  },
  {
   "cell_type": "markdown",
   "id": "67ada12f",
   "metadata": {},
   "source": [
    "## Q3: Comment on the coefficient of log(real_disp_pers_inc) (national real disposable personal income)– statistically and the interpretation in the context of retail business.\n",
    "\n",
    "### A3:\n",
    "\n",
    "#### From the statistical perspective:\n",
    "The coeffcient of log(real_disp_pers_inc) is -1.0197 which represents a negative relationship between the real_disp_pers_inc and the quantity. The p-value of the coefficient is 0.215 which means that it has 21.5% probability to observe the same or more extrem value and therefore we are not confident enough (<95%) to reject the null hypothesis which states that there is no relationship between the log(real_disp_pers_inc) and the log(quantity).\n",
    "\n",
    "#### Interpretation in the context of retail business:\n",
    "Because both the response and predictor variables are log transformed, the coefficient of -1.0197 means that for every 1% increase in the real_disp_pers_inc, the quantity decreases by about 1.02%."
   ]
  },
  {
   "cell_type": "markdown",
   "id": "d5f936a4",
   "metadata": {},
   "source": [
    "## Q4: Could you or could you not accept this model? Why or why not?\n",
    "\n",
    "### A4:\n",
    "\n",
    "I will not accpet this model because the R-squared value of this model is 0.640 which means there are only 64% of variance of the quantity are explained by this model. The small value of R-squared is probably due to the lack of predictors.\n",
    "\n"
   ]
  },
  {
   "cell_type": "markdown",
   "id": "62aa72f8",
   "metadata": {},
   "source": [
    "## Q5: Enhance the specification by regressing, with an intercept terms, log(quantity) on log(product_real_price), log(service_score), log(real_disp_pers_inc) and product_stores , PLUS SEASONAL MONTHLY BINARY VARIABLES OF YOUR CHOICE (Mxx).\n",
    "\n",
    "### A5: Build the model and show the statistical summary"
   ]
  },
  {
   "cell_type": "code",
   "execution_count": 163,
   "id": "5484a9cc",
   "metadata": {},
   "outputs": [
    {
     "name": "stdout",
     "output_type": "stream",
     "text": [
      "                            OLS Regression Results                            \n",
      "==============================================================================\n",
      "Dep. Variable:       np.log(quantity)   R-squared:                       0.940\n",
      "Model:                            OLS   Adj. R-squared:                  0.929\n",
      "Method:                 Least Squares   F-statistic:                     87.54\n",
      "Date:                Sun, 03 Apr 2022   Prob (F-statistic):           1.17e-44\n",
      "Time:                        11:54:54   Log-Likelihood:                 134.52\n",
      "No. Observations:                 100   AIC:                            -237.0\n",
      "Df Residuals:                      84   BIC:                            -195.4\n",
      "Df Model:                          15                                         \n",
      "Covariance Type:            nonrobust                                         \n",
      "==============================================================================================\n",
      "                                 coef    std err          t      P>|t|      [0.025      0.975]\n",
      "----------------------------------------------------------------------------------------------\n",
      "Intercept                      7.5069      3.435      2.185      0.032       0.675      14.338\n",
      "np.log(product_real_price)    -0.7633      0.274     -2.790      0.007      -1.307      -0.219\n",
      "np.log(service_score)          0.2108      0.023      9.103      0.000       0.165       0.257\n",
      "np.log(real_disp_pers_inc)     0.7116      0.372      1.912      0.059      -0.029       1.452\n",
      "product_stores                 0.0020      0.001      3.122      0.002       0.001       0.003\n",
      "M02                            0.0649      0.034      1.935      0.056      -0.002       0.132\n",
      "M03                            0.3263      0.034      9.670      0.000       0.259       0.393\n",
      "M04                            0.3606      0.034     10.499      0.000       0.292       0.429\n",
      "M05                            0.3651      0.035     10.563      0.000       0.296       0.434\n",
      "M06                            0.3795      0.036     10.502      0.000       0.308       0.451\n",
      "M07                            0.3722      0.036     10.357      0.000       0.301       0.444\n",
      "M08                            0.4022      0.036     11.293      0.000       0.331       0.473\n",
      "M09                            0.3016      0.036      8.361      0.000       0.230       0.373\n",
      "M10                            0.2574      0.036      7.201      0.000       0.186       0.328\n",
      "M11                            0.1211      0.035      3.430      0.001       0.051       0.191\n",
      "M12                           -0.0490      0.034     -1.426      0.158      -0.117       0.019\n",
      "==============================================================================\n",
      "Omnibus:                        2.244   Durbin-Watson:                   2.331\n",
      "Prob(Omnibus):                  0.326   Jarque-Bera (JB):                1.644\n",
      "Skew:                           0.263   Prob(JB):                        0.440\n",
      "Kurtosis:                       3.343   Cond. No.                     3.36e+05\n",
      "==============================================================================\n",
      "\n",
      "Notes:\n",
      "[1] Standard Errors assume that the covariance matrix of the errors is correctly specified.\n",
      "[2] The condition number is large, 3.36e+05. This might indicate that there are\n",
      "strong multicollinearity or other numerical problems.\n"
     ]
    }
   ],
   "source": [
    "model2 = smf.ols('np.log(quantity) ~ np.log(product_real_price) + \\\n",
    "                np.log(service_score) + np.log(real_disp_pers_inc) + product_stores + \\\n",
    "                M02 + M03 + M04 + M05 + M06 + M07 + M08 + M09 + M10 + M11 + M12', \\\n",
    "                data=quantity).fit()\n",
    "\n",
    "print(model2.summary())"
   ]
  },
  {
   "cell_type": "markdown",
   "id": "577038e9",
   "metadata": {},
   "source": [
    "## Q6: Comment on the coefficient of log(product_real_price) – statistically and the interpretation in the context of demand theory (this product’s demand).\n",
    "\n",
    "### A6:\n",
    "\n",
    "#### From the statistical perspective:\n",
    "The coefficient of log(product_real_price) is -0.7633 which represents a negative relationship between the product_real_price and the quantity. The p-value of the coefficient is 0.007 which means that it has only 0.7% probability to observe the same or more extreme value and therefore we are confident enough (>95%) to reject the null hypothesis which states that there is no relationship between the log(product_real_price) and the log(quantity).\n",
    "\n",
    "#### Interpretation in the context of demand theory:\n",
    "Becasue both the response and predictor variables are log transfomred, the coefficient of -0.7633 means that for every 1% increase in the product_real_price, the quantity decreases by about 0.76%. The explanation of the coefficient is coincide with the definition of **price elasticity of demand** which refers to the percentage change in quantity divided by the percentage change in price (product real price). The price elasticity of demand equals to 0.76 which is regarded as an inelastic demand (elasticity < 1).\n"
   ]
  },
  {
   "cell_type": "markdown",
   "id": "b65370ff",
   "metadata": {},
   "source": [
    "## Q7: Comment on the coefficient of log(real_disp_pers_inc) – statistically and the interpretation in the context of demand theory (this product’s demand).\n",
    "\n",
    "### A7:\n",
    "\n",
    "#### From the statistical perspective:\n",
    "The coefficient of log(real_disp_pers_inc) is 0.7116 which represents a positive relationship between the real_disp_pers_inc and the quantity. The p-value of the coefficient is 0.059 which means that it has 5.9% probability to observe the same or more extreme value and therefore we are not confident (<95%) to reject the null hypothesis which states that there is no relationship between the log(real_disp_pers_inc) and the log(quantity).\n",
    "\n",
    "#### Interpretation in the context of demand theory:\n",
    "Becasue both the response and predictor variables are log transfomred, the coefficient of 0.7116 means that for every 1% increase in the real_disp_pers_inc, the quantity increases by about 0.71%. The explanation of the coefficient is coincide with the definition of **income elasticity of demand** which refers to the ratio of the percentage change in quantity demanded to the percentage change in income (national disposable personal income). The income elasticity of demand equals to 0.71 which is regarded as an inelastic demand (elasticity < 1)."
   ]
  },
  {
   "cell_type": "markdown",
   "id": "d06d078a",
   "metadata": {},
   "source": [
    "## Q8: Interpret the coefficient of product_stores.\n",
    "\n",
    "### A8:\n",
    "\n",
    "#### From the statistical perspective:\n",
    "The coefficient of product_store is 0.0020 which represents a positive relationship between the product_store and the quantity. The p-value of the coefficient is 0.002 which means that it has only 0.2% probability to observe the same or more extreme value and therefore we are confident enough (>95%) to reject the null hypothesis which states that there is no relationship between the product_store and the quantity.\n",
    "\n",
    "#### Interpretation in the context of retail business:\n",
    "Because only the response variables are log transformed, the coefficient of 0.0020 means that for every one unit increase in the product_stores, the quantity increases by about 0.2%. More specifically, one more distribution channel will lead to 0.2% increase in the product sold quantity."
   ]
  },
  {
   "cell_type": "markdown",
   "id": "3bb264b0",
   "metadata": {},
   "source": [
    "## Q9: What happen when all Mxx are included as independent variables?\n",
    "\n",
    "### A9:\n",
    "Including all the dummy variables will fall into the **dummy variable trap** which results in a **perfect multicollinearity** of the predictors and therefore leads to the failure of the least squares algorithm used in the linear regression model. To avoid this trap, we need to drop one dummy variable abitrarily or drop the intercept."
   ]
  },
  {
   "cell_type": "markdown",
   "id": "e8b9ae14",
   "metadata": {},
   "source": [
    "## Q10: Interpret the coefficient of M08 (August).\n",
    "\n",
    "### A10:\n",
    "\n",
    "The coefficient of M08 is 0.4022 which is the largest among all the dummy variables. The maximum value indicates that this product demonstrates a best sold quantity in August. Specifically, the coefficient of 0.4022 means that the sold quantity is 40.22% higher than the quantity sold in January given all the other predictors are consistent."
   ]
  },
  {
   "cell_type": "markdown",
   "id": "420131ce",
   "metadata": {},
   "source": [
    "## Q11: Would you or would you not accept this model? Why or why not?\n",
    "\n",
    "### A11:\n",
    "\n",
    "I would accept this model as the R-squared value of this model reaches 0.940 indicating that there are 94% of variance of the quantity have been explained by this model. \n",
    "\n",
    "However, as the p-value of log(real_disp_pers_inc) is 0.059 larger than a usually threshold of 0.05 to reject the null hypothesis, the statistical power of the model still has some room to improve. The moderate p-value is probably inflated by the existence of collinearity among the predictors of log(product_real_price), log(service_score), log(real_disp_pers_inc) and product_stores. Therefore, dropping the feature that causes collinearity could be a method.\n",
    "\n",
    "To fix the problem:\n",
    "\n",
    "First, identify if the model has collinearity among the features of by calculating the variance inflation factors (VIF).  \n",
    "Second, drop one of the feature that has a VIF higher than 5 which is usually regarded as the evidence of the existence of collinearity.  \n",
    "Third, check the p-values  and VIF of the revised models.\n",
    "\n",
    "Note that the p-value of the coefficients of M02 and M12 are also higher than 0.05 but we can safely ignore them as no more dummy variables can be dropped to build a model with a resonable explanation."
   ]
  },
  {
   "cell_type": "code",
   "execution_count": 182,
   "id": "e0ea021a",
   "metadata": {},
   "outputs": [
    {
     "name": "stderr",
     "output_type": "stream",
     "text": [
      "C:\\Users\\Fan\\anaconda3-2\\lib\\site-packages\\statsmodels\\tsa\\tsatools.py:142: FutureWarning: In a future version of pandas all arguments of concat except for the argument 'objs' will be keyword-only\n",
      "  x = pd.concat(x[::order], 1)\n"
     ]
    },
    {
     "data": {
      "text/plain": [
       "const                 249509.251955\n",
       "product_real_price        14.654555\n",
       "service_score              2.646740\n",
       "real_disp_pers_inc         3.102211\n",
       "product_stores             7.979961\n",
       "M02                        1.947196\n",
       "M03                        1.971224\n",
       "M04                        2.042089\n",
       "M05                        2.068865\n",
       "M06                        2.031600\n",
       "M07                        2.009459\n",
       "M08                        1.973792\n",
       "M09                        2.024699\n",
       "M10                        1.988136\n",
       "M11                        1.940893\n",
       "M12                        1.840978\n",
       "dtype: float64"
      ]
     },
     "execution_count": 182,
     "metadata": {},
     "output_type": "execute_result"
    }
   ],
   "source": [
    "# calculate the VIF of preidctors\n",
    "# The VIF values of log(product_real_price) and log(product_stores) are higher than 5 showing a high collinearity\n",
    "\n",
    "predictors = quantity.drop(columns=['quantity', 'month', 'M01'])\n",
    "\n",
    "predictors['product_real_price'] = np.log(predictors['product_real_price'])\n",
    "predictors['service_score'] = np.log(predictors['service_score'])\n",
    "predictors['real_disp_pers_inc'] = np.log(predictors['real_disp_pers_inc'])\n",
    "\n",
    "X = add_constant(predictors)\n",
    "pd.Series([variance_inflation_factor(X.values, i) \n",
    "               for i in range(X.shape[1])], \n",
    "              index=X.columns)"
   ]
  },
  {
   "cell_type": "code",
   "execution_count": 185,
   "id": "82fbfd1b",
   "metadata": {
    "scrolled": true
   },
   "outputs": [
    {
     "data": {
      "text/plain": [
       "Text(0, 0.5, 'Product Real Price')"
      ]
     },
     "execution_count": 185,
     "metadata": {},
     "output_type": "execute_result"
    },
    {
     "data": {
      "image/png": "[encoded data removed]",
      "text/plain": [
       "<Figure size 720x360 with 1 Axes>"
      ]
     },
     "metadata": {
      "needs_background": "light"
     },
     "output_type": "display_data"
    }
   ],
   "source": [
    "# The collienarity bewtween the product_stores and the prodcut_real price can also be illustrated with a graph below\n",
    "\n",
    "lr = LinearRegression()\n",
    "X_ = quantity['product_stores'].values.reshape(-1, 1)\n",
    "y_ = quantity['product_real_price'].values.reshape(-1, 1)\n",
    "lr.fit(X_, y_)\n",
    "\n",
    "X_2 = X_.copy()\n",
    "X_2.sort(axis=0)\n",
    "\n",
    "plt.figure(figsize=(10, 5))\n",
    "plt.scatter(quantity['product_stores'], quantity['product_real_price'], facecolor='none', edgecolor='grey', label='Original Data')\n",
    "plt.plot(X_2, lr.predict(X_2), linestyle='--', color='#00246A', label='Trend Line')\n",
    "plt.legend()\n",
    "plt.xlabel('Product Stores')\n",
    "plt.ylabel('Product Real Price')"
   ]
  },
  {
   "cell_type": "markdown",
   "id": "589b9784",
   "metadata": {},
   "source": [
    "### The revised model\n",
    "\n",
    "I decided to drop the feature of product_stores (VIF=7.979961) instead of the feature of product_real_price (VIF=14.654555) beacuse I believe exploring the **price elasticity of demand** is a more important purpose of this model.\n",
    "\n",
    "The p-value of log(real_disp_pers_inc) of the revised model can be decreased to 0.017 at the sacrifice of the feature of product stores. Although the statistical power of the model has been improved, the revised model lost the ability to explain the effect of distribution channels (product_stores) on product quantity sold. Less features and data will also lead to the increase in residual sum of suquares (RSS) and the decrease in R-squared.  \n",
    "\n",
    "#### In conclusion, choosing between the two models should consider the trade-off between statistical power and model explaining ability."
   ]
  },
  {
   "cell_type": "code",
   "execution_count": 179,
   "id": "38010bc4",
   "metadata": {},
   "outputs": [
    {
     "name": "stdout",
     "output_type": "stream",
     "text": [
      "                            OLS Regression Results                            \n",
      "==============================================================================\n",
      "Dep. Variable:       np.log(quantity)   R-squared:                       0.933\n",
      "Model:                            OLS   Adj. R-squared:                  0.922\n",
      "Method:                 Least Squares   F-statistic:                     84.41\n",
      "Date:                Mon, 04 Apr 2022   Prob (F-statistic):           1.19e-43\n",
      "Time:                        08:49:50   Log-Likelihood:                 129.03\n",
      "No. Observations:                 100   AIC:                            -228.1\n",
      "Df Residuals:                      85   BIC:                            -189.0\n",
      "Df Model:                          14                                         \n",
      "Covariance Type:            nonrobust                                         \n",
      "==============================================================================================\n",
      "                                 coef    std err          t      P>|t|      [0.025      0.975]\n",
      "----------------------------------------------------------------------------------------------\n",
      "Intercept                      6.6663      3.597      1.853      0.067      -0.485      13.817\n",
      "np.log(product_real_price)    -1.4938      0.149    -10.034      0.000      -1.790      -1.198\n",
      "np.log(service_score)          0.1883      0.023      8.148      0.000       0.142       0.234\n",
      "np.log(real_disp_pers_inc)     0.9324      0.384      2.430      0.017       0.169       1.695\n",
      "M02                            0.0645      0.035      1.831      0.071      -0.006       0.134\n",
      "M03                            0.3339      0.035      9.447      0.000       0.264       0.404\n",
      "M04                            0.3779      0.036     10.617      0.000       0.307       0.449\n",
      "M05                            0.3878      0.035     10.928      0.000       0.317       0.458\n",
      "M06                            0.4098      0.037     11.212      0.000       0.337       0.482\n",
      "M07                            0.3998      0.037     10.930      0.000       0.327       0.473\n",
      "M08                            0.4258      0.037     11.648      0.000       0.353       0.498\n",
      "M09                            0.3288      0.037      8.944      0.000       0.256       0.402\n",
      "M10                            0.2825      0.037      7.725      0.000       0.210       0.355\n",
      "M11                            0.1426      0.036      3.920      0.000       0.070       0.215\n",
      "M12                           -0.0477      0.036     -1.322      0.190      -0.120       0.024\n",
      "==============================================================================\n",
      "Omnibus:                        0.539   Durbin-Watson:                   2.078\n",
      "Prob(Omnibus):                  0.764   Jarque-Bera (JB):                0.273\n",
      "Skew:                           0.119   Prob(JB):                        0.872\n",
      "Kurtosis:                       3.095   Cond. No.                     5.78e+03\n",
      "==============================================================================\n",
      "\n",
      "Notes:\n",
      "[1] Standard Errors assume that the covariance matrix of the errors is correctly specified.\n",
      "[2] The condition number is large, 5.78e+03. This might indicate that there are\n",
      "strong multicollinearity or other numerical problems.\n"
     ]
    }
   ],
   "source": [
    "# Build the model without product store feature.\n",
    "# The p-value of np.log(product_real_price) has been decreased to almost zero.\n",
    "# The p-vaue of np.log(real_disp_pers_inc) has been decreased to 0.017 smaller than 0.05.\n",
    "# But the smaller p-value is reached at sacrificing the explaining ability of this model as the R-squared value decreased to 0.933.\n",
    "\n",
    "model3 = smf.ols('np.log(quantity) ~ np.log(product_real_price) + \\\n",
    "                np.log(service_score) + np.log(real_disp_pers_inc) + \\\n",
    "                M02 + M03 + M04 + M05 + M06 + M07 + M08 + M09 + M10 + M11 + M12', \\\n",
    "                data=quantity).fit()\n",
    "\n",
    "print(model3.summary())"
   ]
  },
  {
   "cell_type": "code",
   "execution_count": 184,
   "id": "c52f250e",
   "metadata": {},
   "outputs": [
    {
     "data": {
      "text/plain": [
       "const                 247976.288344\n",
       "product_real_price         3.934360\n",
       "service_score              2.390460\n",
       "real_disp_pers_inc         2.990241\n",
       "M02                        1.947164\n",
       "M03                        1.960987\n",
       "M04                        1.988782\n",
       "M05                        1.977243\n",
       "M06                        1.884641\n",
       "M07                        1.887660\n",
       "M08                        1.885087\n",
       "M09                        1.906610\n",
       "M10                        1.887332\n",
       "M11                        1.867256\n",
       "M12                        1.840710\n",
       "dtype: float64"
      ]
     },
     "execution_count": 184,
     "metadata": {},
     "output_type": "execute_result"
    }
   ],
   "source": [
    "# Check the VIF of revised model\n",
    "# All the VIF are less than 5 indicates a small collinearity\n",
    "\n",
    "predictors2 = quantity.drop(columns=['quantity', 'month', 'M01', 'product_stores'])\n",
    "\n",
    "predictors2['product_real_price'] = np.log(predictors2['product_real_price'])\n",
    "predictors2['service_score'] = np.log(predictors2['service_score'])\n",
    "predictors2['real_disp_pers_inc'] = np.log(predictors2['real_disp_pers_inc'])\n",
    "\n",
    "X2 = add_constant(predictors2)\n",
    "pd.Series([variance_inflation_factor(X2.values, i) \n",
    "               for i in range(X2.shape[1])], \n",
    "              index=X2.columns)"
   ]
  },
  {
   "cell_type": "code",
   "execution_count": null,
   "id": "5235f170",
   "metadata": {},
   "outputs": [],
   "source": []
  }
 ],
 "metadata": {
  "kernelspec": {
   "display_name": "Python 3 (ipykernel)",
   "language": "python",
   "name": "python3"
  },
  "language_info": {
   "codemirror_mode": {
    "name": "ipython",
    "version": 3
   },
   "file_extension": ".py",
   "mimetype": "text/x-python",
   "name": "python",
   "nbconvert_exporter": "python",
   "pygments_lexer": "ipython3",
   "version": "3.9.7"
  }
 },
 "nbformat": 4,
 "nbformat_minor": 5
}
